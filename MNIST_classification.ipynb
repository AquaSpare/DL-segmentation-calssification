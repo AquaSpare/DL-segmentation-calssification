{
  "nbformat": 4,
  "nbformat_minor": 0,
  "metadata": {
    "colab": {
      "name": "MNIST_classification.ipynb",
      "provenance": [],
      "authorship_tag": "ABX9TyMTUYG2WaUvnxK/jcmSMoPF",
      "include_colab_link": true
    },
    "kernelspec": {
      "name": "python3",
      "display_name": "Python 3"
    },
    "language_info": {
      "name": "python"
    },
    "accelerator": "GPU"
  },
  "cells": [
    {
      "cell_type": "markdown",
      "metadata": {
        "id": "view-in-github",
        "colab_type": "text"
      },
      "source": [
        "<a href=\"https://colab.research.google.com/github/AquaSpare/deep_learning_assignment_3/blob/main/MNIST_classification.ipynb\" target=\"_parent\"><img src=\"https://colab.research.google.com/assets/colab-badge.svg\" alt=\"Open In Colab\"/></a>"
      ]
    },
    {
      "cell_type": "code",
      "metadata": {
        "id": "K20xnUsbLcmj"
      },
      "source": [
        "import torch\n",
        "import pandas\n",
        "import torch.nn as nn\n",
        "import torch.optim as optim\n",
        "import torch.nn.functional as F\n",
        "from torch.utils.data import DataLoader, random_split\n",
        "import torchvision.datasets as datasets\n",
        "import torchvision.transforms as transforms\n",
        "import matplotlib.pyplot as plt\n",
        "from pandas.core.common import flatten\n",
        "from sklearn.metrics import confusion_matrix\n",
        "import numpy as np\n",
        "from sklearn.metrics import ConfusionMatrixDisplay"
      ],
      "execution_count": null,
      "outputs": []
    },
    {
      "cell_type": "code",
      "metadata": {
        "id": "J2S9SJjJNIXS"
      },
      "source": [
        "# Define hyperparameters\n",
        "learning_rate = 0.06\n",
        "batch_size = 36\n",
        "num_epochs = 10\n",
        "momentum = 0.9"
      ],
      "execution_count": null,
      "outputs": []
    },
    {
      "cell_type": "code",
      "metadata": {
        "id": "ftxuY703NSRm"
      },
      "source": [
        "# Load the test and training data\n",
        "train_dataset = datasets.MNIST('data', train=True, transform=transforms.ToTensor(), download=True)\n",
        "train_dataset, val_dataset = random_split(train_dataset, [55000, 5000])\n",
        "train_loader = DataLoader(dataset=train_dataset, batch_size=batch_size, shuffle=True)\n",
        "val_loader = DataLoader(dataset=val_dataset, batch_size=batch_size, shuffle=True)\n",
        "\n",
        "test_dataset = datasets.MNIST('data', train=False, transform=transforms.ToTensor(), download=True)\n",
        "test_loader = DataLoader(dataset=test_dataset, batch_size=batch_size, shuffle=True)"
      ],
      "execution_count": null,
      "outputs": []
    },
    {
      "cell_type": "code",
      "metadata": {
        "id": "uSm4q4V7M9sc"
      },
      "source": [
        "# Set the device to gpu if available\n",
        "device = torch.device('cuda' if torch.cuda.is_available() else 'cpu')"
      ],
      "execution_count": null,
      "outputs": []
    },
    {
      "cell_type": "markdown",
      "metadata": {
        "id": "AnEqgODDd_rI"
      },
      "source": [
        "A few different models"
      ]
    },
    {
      "cell_type": "code",
      "metadata": {
        "id": "frvGBY9hgpIE"
      },
      "source": [
        "# Model with a single layer\n",
        "model1 = nn.Sequential(\n",
        "    nn.Linear(28 * 28, 10)\n",
        ")\n",
        "\n",
        "# Move the model to the GPU\n",
        "model = model1.to(device)"
      ],
      "execution_count": null,
      "outputs": []
    },
    {
      "cell_type": "code",
      "metadata": {
        "id": "Eo4A9BmuhVoK"
      },
      "source": [
        "# Model with two layers, 200 hidden units\n",
        "model2 = nn.Sequential(\n",
        "    nn.Linear(28 * 28, 200),\n",
        "    nn.ReLU(),\n",
        "    nn.Linear(200, 10)\n",
        ")\n",
        "\n",
        "# Move the model to the GPU\n",
        "model = model2.to(device)"
      ],
      "execution_count": null,
      "outputs": []
    },
    {
      "cell_type": "code",
      "metadata": {
        "id": "UK1HXjBdsv7w"
      },
      "source": [
        "# A basic convolutional network, exercise 1.2\n",
        "class CNN_1(nn.Module):\n",
        "  def __init__(self):\n",
        "    super(CNN_1, self).__init__()\n",
        "    self.conv1 = nn.Conv2d(1, 8, 3, 1, 1)\n",
        "    self.pool = nn.MaxPool2d(2, 2)\n",
        "    self.conv2 = nn.Conv2d(8, 16, 3, 1, 1)\n",
        "    self.conv3 = nn.Conv2d(16, 32, 3, 1, 1)\n",
        "    self.fc1 = nn.Linear(32*7*7, 10)\n",
        "\n",
        "  def forward(self, x):\n",
        "    x = F.relu(self.conv1(x))\n",
        "    x = self.pool(x)\n",
        "    x = F.relu(self.conv2(x))\n",
        "    x = self.pool(x)\n",
        "    x = F.relu(self.conv3(x))\n",
        "    x = x.reshape(x.shape[0], -1)\n",
        "    x = self.fc1(x)\n",
        "\n",
        "    return x\n",
        "\n",
        "model = CNN_1().to(device)"
      ],
      "execution_count": null,
      "outputs": []
    },
    {
      "cell_type": "code",
      "metadata": {
        "id": "KA7ojiYJ8qEb"
      },
      "source": [
        "# A basic convolutional network, exercise 1.3\n",
        "class CNN_2(nn.Module):\n",
        "  def __init__(self):\n",
        "    super(CNN_2, self).__init__()\n",
        "    self.conv1 = nn.Conv2d(1, 8, 3, 1, 1)\n",
        "    self.pool = nn.MaxPool2d(2, 2)\n",
        "    self.conv2 = nn.Conv2d(8, 16, 3, 1, 1)\n",
        "    self.conv3 = nn.Conv2d(16, 32, 3, 1, 1)\n",
        "    self.fc1 = nn.Linear(32*7*7, 10)\n",
        "\n",
        "  def forward(self, x):\n",
        "    x = self.pool(self.conv1(x))\n",
        "    x = F.relu(x)\n",
        "    x = self.pool(self.conv2(x))\n",
        "    x = F.relu(x)\n",
        "    x = F.relu(self.conv3(x))\n",
        "    x = x.reshape(x.shape[0], -1)\n",
        "    x = self.fc1(x)\n",
        "\n",
        "    return x\n",
        "\n",
        "model = CNN_2().to(device)"
      ],
      "execution_count": null,
      "outputs": []
    },
    {
      "cell_type": "code",
      "metadata": {
        "id": "YM8xyRWSrEmI"
      },
      "source": [
        "# A basic convolutional network, exercise 1.5 using tanh\n",
        "class CNN_3(nn.Module):\n",
        "  def __init__(self):\n",
        "    super(CNN_3, self).__init__()\n",
        "    self.conv1 = nn.Conv2d(1, 8, 3, 1, 1)\n",
        "    self.pool = nn.MaxPool2d(2, 2)\n",
        "    self.conv2 = nn.Conv2d(8, 16, 3, 1, 1)\n",
        "    self.conv3 = nn.Conv2d(16, 32, 3, 1, 1)\n",
        "    self.fc1 = nn.Linear(32*7*7, 10)\n",
        "\n",
        "  def forward(self, x):\n",
        "    x = F.tanh(self.conv1(x))\n",
        "    x = self.pool(x)\n",
        "    x = F.tanh(self.conv2(x))\n",
        "    x = self.pool(x)\n",
        "    x = F.tanh(self.conv3(x))\n",
        "    x = x.reshape(x.shape[0], -1)\n",
        "    x = self.fc1(x)\n",
        "\n",
        "    return x\n",
        "\n",
        "model = CNN_3().to(device)"
      ],
      "execution_count": null,
      "outputs": []
    },
    {
      "cell_type": "code",
      "metadata": {
        "colab": {
          "base_uri": "https://localhost:8080/"
        },
        "id": "a_eXonSb1PgL",
        "outputId": "2e09670b-a777-4063-a73e-2b316edc5c6d"
      },
      "source": [
        "# Method that counts the number of parameters of a model\n",
        "def count_parameters(model):\n",
        "    return sum(p.numel() for p in model.parameters() if p.requires_grad)\n",
        "\n",
        "print(count_parameters(model))"
      ],
      "execution_count": null,
      "outputs": [
        {
          "output_type": "stream",
          "text": [
            "21578\n"
          ],
          "name": "stdout"
        }
      ]
    },
    {
      "cell_type": "markdown",
      "metadata": {
        "id": "iHuhuTcgEXV_"
      },
      "source": [
        "Defining the optimizer and loss"
      ]
    },
    {
      "cell_type": "code",
      "metadata": {
        "id": "qs1TOAVdPAsd"
      },
      "source": [
        "# Define the loss and the optimizer, stochastic gradient descent\n",
        "optimizer = optim.SGD(model.parameters(), lr = learning_rate)\n",
        "loss = nn.CrossEntropyLoss()"
      ],
      "execution_count": null,
      "outputs": []
    },
    {
      "cell_type": "code",
      "metadata": {
        "id": "-hyRNxByEdB5"
      },
      "source": [
        "# Define the loss and the optimizer, ADAM, exercise 1.4\n",
        "optimizer = optim.Adam(model.parameters(),lr = learning_rate)\n",
        "loss = nn.CrossEntropyLoss()"
      ],
      "execution_count": null,
      "outputs": []
    },
    {
      "cell_type": "code",
      "metadata": {
        "id": "Se2CqkEqOgkX"
      },
      "source": [
        "# Define the loss and the optimizer, stochastic gradient descent with momentum\n",
        "optimizer = optim.SGD(model.parameters(), lr = learning_rate, momentum=momentum)\n",
        "loss = nn.CrossEntropyLoss()"
      ],
      "execution_count": null,
      "outputs": []
    },
    {
      "cell_type": "code",
      "metadata": {
        "id": "q--BtHJRpGeN"
      },
      "source": [
        "# Define the loss and the optimizer, stochastic gradient descent with nesterov momentum\n",
        "optimizer = optim.SGD(model.parameters(), lr = learning_rate, momentum=momentum, nesterov=True)\n",
        "loss = nn.CrossEntropyLoss()"
      ],
      "execution_count": null,
      "outputs": []
    },
    {
      "cell_type": "markdown",
      "metadata": {
        "id": "udonsu7VFrQ6"
      },
      "source": [
        "Training and testing related functions"
      ]
    },
    {
      "cell_type": "code",
      "metadata": {
        "id": "el96DWnnWJRL"
      },
      "source": [
        "# function to evaluate accuracy on a given dataset in a loader\n",
        "def check_accuracy(loader, model):\n",
        "  num_correct = 0\n",
        "  num_samples = 0\n",
        "  model.eval()\n",
        "\n",
        "  with torch.no_grad():\n",
        "    for x, y in loader:\n",
        "      x = x.to(device)\n",
        "      y = y.to(device)\n",
        "      # x = x.reshape(x.shape[0], -1)\n",
        "\n",
        "      scores = model(x)\n",
        "\n",
        "      _, predictions = scores.max(1)\n",
        "      num_correct += (predictions == y).sum()\n",
        "      num_samples += predictions.size(0)\n",
        "\n",
        "    model.train()\n",
        "    accuracy = num_correct/num_samples\n",
        "  return accuracy"
      ],
      "execution_count": null,
      "outputs": []
    },
    {
      "cell_type": "code",
      "metadata": {
        "id": "gdN73RFXPgP8",
        "colab": {
          "base_uri": "https://localhost:8080/"
        },
        "outputId": "ab335f57-6dc7-4710-93cb-9aff93af2d7d"
      },
      "source": [
        "# Train the network\n",
        "cost_train = []\n",
        "accuracy = []\n",
        "\n",
        "for epoch in range(num_epochs):\n",
        "  for batch_idx, (data, targets) in enumerate(train_loader):\n",
        "    # Get data to cuda() if possible\n",
        "    data = data.to(device)\n",
        "    targets = targets.to(device)\n",
        "\n",
        "    # Reshape data to correct shape\n",
        "    # data = data.reshape(data.shape[0], -1)\n",
        "\n",
        "    # Forward\n",
        "    scores = model(data)\n",
        "    J = loss(scores, targets)\n",
        "\n",
        "    # Backward\n",
        "    optimizer.zero_grad()\n",
        "    J.backward()\n",
        "\n",
        "    # gradient descent step\n",
        "    optimizer.step()\n",
        "\n",
        "    cost_train.append(J.item())\n",
        "    \n",
        "  acc = check_accuracy(val_loader, model)\n",
        "  accuracy.append(acc)\n",
        "\n",
        "  print(f'Epoch {epoch+1} validation accuarcy {float(acc)*100:.2f}%')\n"
      ],
      "execution_count": null,
      "outputs": [
        {
          "output_type": "stream",
          "text": [
            "Epoch 1 validation accuarcy 97.04%\n",
            "Epoch 2 validation accuarcy 97.70%\n",
            "Epoch 3 validation accuarcy 98.48%\n",
            "Epoch 4 validation accuarcy 98.70%\n",
            "Epoch 5 validation accuarcy 98.96%\n",
            "Epoch 6 validation accuarcy 98.48%\n",
            "Epoch 7 validation accuarcy 98.36%\n",
            "Epoch 8 validation accuarcy 98.88%\n",
            "Epoch 9 validation accuarcy 98.82%\n",
            "Epoch 10 validation accuarcy 98.72%\n"
          ],
          "name": "stdout"
        }
      ]
    },
    {
      "cell_type": "markdown",
      "metadata": {
        "id": "ltbyssqRkVtu"
      },
      "source": [
        "Section for plots"
      ]
    },
    {
      "cell_type": "code",
      "metadata": {
        "id": "LNRq16_meCmc"
      },
      "source": [
        "# Producing the confusion matrix\n",
        "\n",
        "test_loader = DataLoader(dataset=test_dataset, batch_size=1, shuffle=True)\n",
        "\n",
        "model.eval()\n",
        "conf_matrix = np.zeros((10,10))\n",
        "with torch.no_grad():\n",
        "  for x, y in test_loader:\n",
        "    scores = model(x)\n",
        "    _, predictions = scores.max(1)\n",
        "    conf_matrix += confusion_matrix(y.view(-1), predictions.view(-1), labels=[0,1,2,3,4,5,6,7,8,9])\n",
        "\n",
        "    \n",
        "    if (predictions != y).sum() > 0:\n",
        "      x_fail = x\n",
        "      y_fail = y\n",
        "      break\n",
        "\n",
        "model.train()\n",
        "test_loader = DataLoader(dataset=test_dataset, batch_size=batch_size, shuffle=True)\n",
        "\n",
        "x_fail = x_fail.numpy()\n",
        "y_fail = y_fail.numpy()\n",
        "pred = predictions.numpy()"
      ],
      "execution_count": null,
      "outputs": []
    },
    {
      "cell_type": "code",
      "metadata": {
        "colab": {
          "base_uri": "https://localhost:8080/",
          "height": 299
        },
        "id": "7St2pvmRscdm",
        "outputId": "788c001e-b1cb-4680-bfee-00209faaf5ab"
      },
      "source": [
        "plt.imshow(x_fail[0][0])\n",
        "print(f'Actual value: {y_fail}')\n",
        "print(f'Predicted value: {pred}')\n",
        "plt.savefig('Missclassification_3')"
      ],
      "execution_count": null,
      "outputs": [
        {
          "output_type": "stream",
          "text": [
            "Actual value: [6]\n",
            "Predicted value: [5]\n"
          ],
          "name": "stdout"
        },
        {
          "output_type": "display_data",
          "data": {
            "image/png": "[encoded data removed]",
            "text/plain": [
              "<Figure size 432x288 with 1 Axes>"
            ]
          },
          "metadata": {
            "tags": [],
            "needs_background": "light"
          }
        }
      ]
    },
    {
      "cell_type": "code",
      "metadata": {
        "colab": {
          "base_uri": "https://localhost:8080/",
          "height": 279
        },
        "id": "JJ_IfxWJfX-i",
        "outputId": "e6854fe0-7842-4703-eecf-66620c8b0538"
      },
      "source": [
        "disp = ConfusionMatrixDisplay(confusion_matrix=conf_matrix, display_labels=[0,1,2,3,4,5,6,7,8,9])\n",
        "disp = disp.plot()\n",
        "plt.savefig('Confusion_CNET1_ADAM')\n",
        "plt.show()"
      ],
      "execution_count": null,
      "outputs": [
        {
          "output_type": "display_data",
          "data": {
            "image/png": "[encoded data removed]",
            "text/plain": [
              "<Figure size 432x288 with 2 Axes>"
            ]
          },
          "metadata": {
            "tags": [],
            "needs_background": "light"
          }
        }
      ]
    },
    {
      "cell_type": "code",
      "metadata": {
        "colab": {
          "base_uri": "https://localhost:8080/",
          "height": 295
        },
        "id": "NNdae1-je9Cz",
        "outputId": "4d836a4d-e77e-4e94-e836-9ff045268e73"
      },
      "source": [
        "plt.plot(cost_train)\n",
        "plt.xlabel('Iterations')\n",
        "plt.ylabel('Loss')\n",
        "plt.title('Training loss, convonlutional, tanh activations')\n",
        "\n",
        "plt.savefig('T_loss, CONV1_tanh')"
      ],
      "execution_count": null,
      "outputs": [
        {
          "output_type": "display_data",
          "data": {
            "image/png": "[encoded data removed]",
            "text/plain": [
              "<Figure size 432x288 with 1 Axes>"
            ]
          },
          "metadata": {
            "tags": [],
            "needs_background": "light"
          }
        }
      ]
    }
  ]
}