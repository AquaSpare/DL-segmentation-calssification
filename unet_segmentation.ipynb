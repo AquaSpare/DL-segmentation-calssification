{
  "nbformat": 4,
  "nbformat_minor": 0,
  "metadata": {
    "colab": {
      "name": "unet_segmentation.ipynb",
      "provenance": [],
      "collapsed_sections": [],
      "authorship_tag": "ABX9TyP4blsgJ7uDTuwacgBFMVGv",
      "include_colab_link": true
    },
    "kernelspec": {
      "name": "python3",
      "display_name": "Python 3"
    },
    "language_info": {
      "name": "python"
    },
    "accelerator": "GPU"
  },
  "cells": [
    {
      "cell_type": "markdown",
      "metadata": {
        "id": "view-in-github",
        "colab_type": "text"
      },
      "source": [
        "<a href=\"https://colab.research.google.com/github/AquaSpare/deep_learning_assignment_3/blob/main/unet_segmentation.ipynb\" target=\"_parent\"><img src=\"https://colab.research.google.com/assets/colab-badge.svg\" alt=\"Open In Colab\"/></a>"
      ]
    },
    {
      "cell_type": "code",
      "metadata": {
        "id": "6cdmi9Djf2Je"
      },
      "source": [
        "import os\n",
        "import numpy as np\n",
        "import pandas as pd\n",
        "import torch\n",
        "import torch.nn as nn\n",
        "import torch.optim as optim\n",
        "import torch.nn.functional as F\n",
        "import torchvision\n",
        "import torchvision.transforms as transforms\n",
        "import matplotlib.pyplot as plt\n",
        "from torch.utils.data import Dataset, DataLoader\n",
        "from skimage import io\n",
        "from google.colab import drive\n",
        "from sklearn.metrics import ConfusionMatrixDisplay\n",
        "import statistics"
      ],
      "execution_count": null,
      "outputs": []
    },
    {
      "cell_type": "code",
      "metadata": {
        "id": "1yVE_twmgcpg",
        "colab": {
          "base_uri": "https://localhost:8080/"
        },
        "outputId": "b61f09bc-743e-4127-cae7-b6863f4650a2"
      },
      "source": [
        "drive.mount('/content/drive')"
      ],
      "execution_count": null,
      "outputs": [
        {
          "output_type": "stream",
          "text": [
            "Mounted at /content/drive\n"
          ],
          "name": "stdout"
        }
      ]
    },
    {
      "cell_type": "markdown",
      "metadata": {
        "id": "qCKsP8LFrmcH"
      },
      "source": [
        "Loading the dataset"
      ]
    },
    {
      "cell_type": "code",
      "metadata": {
        "id": "e_ovMAgTRbws"
      },
      "source": [
        "# Class for loading the warwick dataset\n",
        "class warwick_dataset(Dataset):\n",
        "  def __init__(self, root_dir, transform=None):\n",
        "    self.root_dir = root_dir\n",
        "    self.transform = transform\n",
        "    self.dirlist = sorted(os.listdir(root_dir))\n",
        "\n",
        "    self.target_paths = []\n",
        "    self.image_paths = []\n",
        "\n",
        "    for path in self.dirlist:\n",
        "      if path[0] == 'l':\n",
        "        self.target_paths.append(os.path.join(self.root_dir, path))\n",
        "      else:\n",
        "        self.image_paths.append(os.path.join(self.root_dir, path))\n",
        "\n",
        "  def __len__(self):\n",
        "    return len(self.target_paths)\n",
        "\n",
        "  def __getitem__(self, index):\n",
        "    image = io.imread(self.image_paths[index])\n",
        "    target = io.imread(self.target_paths[index])\n",
        "\n",
        "    if self.transform:\n",
        "      image = self.transform(image)\n",
        "      target = self.transform(target)\n",
        "\n",
        "      image = image[:2,:,:]\n",
        "\n",
        "    return (image, target)"
      ],
      "execution_count": null,
      "outputs": []
    },
    {
      "cell_type": "code",
      "metadata": {
        "id": "VHIIDm7Uoz61"
      },
      "source": [
        "root_dir_test = '/content/drive/MyDrive/Datasets/WARWICK/Test'\n",
        "root_dir_train = '/content/drive/MyDrive/Datasets/WARWICK/Train'\n",
        "csv_file = 'Grade.csv'\n",
        "\n",
        "# create the dataset and divide in train, validation and test subsets\n",
        "\n",
        "train_set = warwick_dataset(root_dir=root_dir_train, transform=transforms.ToTensor())\n",
        "\n",
        "test_set = warwick_dataset(root_dir=root_dir_test, transform=transforms.ToTensor())\n",
        "test_set, val_set = torch.utils.data.random_split(test_set, [30, 30])"
      ],
      "execution_count": null,
      "outputs": []
    },
    {
      "cell_type": "code",
      "metadata": {
        "id": "tluSCyXjWPEC"
      },
      "source": [
        "# Set the device to gpu if available\n",
        "device = torch.device('cuda:0' if torch.cuda.is_available() else 'cpu')"
      ],
      "execution_count": null,
      "outputs": []
    },
    {
      "cell_type": "markdown",
      "metadata": {
        "id": "PGgLWQdRvFiv"
      },
      "source": [
        "Define hyperparameters"
      ]
    },
    {
      "cell_type": "code",
      "metadata": {
        "id": "jzTu6HDkvIDB"
      },
      "source": [
        "# Define hyperparameters\n",
        "learning_rate = 0.001\n",
        "batch_size = 15\n",
        "num_epochs = 300\n",
        "momentum = 0.9\n",
        "weight_decay = 0.05"
      ],
      "execution_count": null,
      "outputs": []
    },
    {
      "cell_type": "code",
      "metadata": {
        "id": "8tv_V5TwvMm6"
      },
      "source": [
        "# Create dataloaders\n",
        "train_loader = DataLoader(dataset=train_set, batch_size=batch_size, shuffle=True)\n",
        "test_loader = DataLoader(dataset=test_set, batch_size=batch_size, shuffle=True)\n",
        "val_loader = DataLoader(dataset=val_set, batch_size=batch_size, shuffle=True)"
      ],
      "execution_count": null,
      "outputs": []
    },
    {
      "cell_type": "code",
      "metadata": {
        "id": "kOMIk4EvvwUh"
      },
      "source": [
        "# Code to show an image\n",
        "index = 25\n",
        "x,y = train_set[index]\n",
        "print(y)\n",
        "# plt.imshow(y[0])"
      ],
      "execution_count": null,
      "outputs": []
    },
    {
      "cell_type": "code",
      "metadata": {
        "id": "wZzTFDqYcfSj"
      },
      "source": [
        "class model_1(nn.Module):\n",
        "  def __init__(self):\n",
        "    super(model_1, self).__init__()\n",
        "    \n",
        "    self.conv1 = nn.Conv2d(2, 8, 3, 1, 1)\n",
        "    self.pool = nn.MaxPool2d(2, 2)\n",
        "    self.conv2 = nn.Conv2d(8, 16, 3, 1, 1)\n",
        "    self.conv3 = nn.Conv2d(16, 32, 3, 1, 1)\n",
        "    self.tconv1 = nn.ConvTranspose2d(32, 16, 4, 2, 1)\n",
        "    self.tconv2 = nn.ConvTranspose2d(16, 8, 4, 2, 1)\n",
        "    self.tconv3 = nn.ConvTranspose2d(8, 4, 4, 2, 1)\n",
        "    self.conv_final = nn.Conv2d(4, 2, 1, 1, 0)\n",
        "\n",
        "  def forward(self, x):\n",
        "    x = F.relu(self.conv1(x))\n",
        "    x = self.pool(x)\n",
        "    x = F.relu(self.conv2(x))\n",
        "    x = self.pool(x)\n",
        "    x = F.relu(self.conv3(x))\n",
        "    x = self.pool(x)\n",
        "\n",
        "    x = F.relu(self.tconv1(x))\n",
        "    x = F.relu(self.tconv2(x))\n",
        "    x = F.relu(self.tconv3(x))\n",
        "\n",
        "    x = self.conv_final(x)\n",
        "\n",
        "    return x\n",
        "\n",
        "model = model_1().to(device)"
      ],
      "execution_count": null,
      "outputs": []
    },
    {
      "cell_type": "code",
      "metadata": {
        "id": "-GA5vwyPoqHO"
      },
      "source": [
        "# Model using tan hyperbolic activation functions\n",
        "class model_2(nn.Module):\n",
        "  def __init__(self):\n",
        "    super(model_2, self).__init__()\n",
        "    \n",
        "    self.conv1 = nn.Conv2d(2, 8, 3, 1, 1)\n",
        "    self.pool = nn.MaxPool2d(2, 2)\n",
        "    self.conv2 = nn.Conv2d(8, 16, 3, 1, 1)\n",
        "    self.conv3 = nn.Conv2d(16, 32, 3, 1, 1)\n",
        "    self.tconv1 = nn.ConvTranspose2d(32, 16, 4, 2, 1)\n",
        "    self.tconv2 = nn.ConvTranspose2d(16, 8, 4, 2, 1)\n",
        "    self.tconv3 = nn.ConvTranspose2d(8, 4, 4, 2, 1)\n",
        "    self.conv_final = nn.Conv2d(4, 2, 1, 1, 0)\n",
        "\n",
        "  def forward(self, x):\n",
        "    x = F.tanh(self.conv1(x))\n",
        "    x = self.pool(x)\n",
        "    x = F.tanh(self.conv2(x))\n",
        "    x = self.pool(x)\n",
        "    x = F.tanh(self.conv3(x))\n",
        "    x = self.pool(x)\n",
        "\n",
        "    x = F.tanh(self.tconv1(x))\n",
        "    x = F.tanh(self.tconv2(x))\n",
        "    x = F.tanh(self.tconv3(x))\n",
        "\n",
        "    x = self.conv_final(x)\n",
        "\n",
        "    return x\n",
        "\n",
        "model = model_2().to(device)"
      ],
      "execution_count": null,
      "outputs": []
    },
    {
      "cell_type": "code",
      "metadata": {
        "id": "balPZW_TrYUG"
      },
      "source": [
        "# Model using a 3x3 filter kernel to the output.\n",
        "class model_3(nn.Module):\n",
        "  def __init__(self):\n",
        "    super(model_3, self).__init__()\n",
        "    \n",
        "    self.conv1 = nn.Conv2d(2, 8, 3, 1, 1)\n",
        "    self.pool = nn.MaxPool2d(2, 2)\n",
        "    self.conv2 = nn.Conv2d(8, 16, 3, 1, 1)\n",
        "    self.conv3 = nn.Conv2d(16, 32, 3, 1, 1)\n",
        "    self.tconv1 = nn.ConvTranspose2d(32, 16, 4, 2, 1)\n",
        "    self.tconv2 = nn.ConvTranspose2d(16, 8, 4, 2, 1)\n",
        "    self.tconv3 = nn.ConvTranspose2d(8, 4, 4, 2, 1)\n",
        "    self.conv_final = nn.Conv2d(4, 2, 3, 1, 1)\n",
        "\n",
        "  def forward(self, x):\n",
        "    x = F.relu(self.conv1(x))\n",
        "    x = self.pool(x)\n",
        "    x = F.relu(self.conv2(x))\n",
        "    x = self.pool(x)\n",
        "    x = F.relu(self.conv3(x))\n",
        "    x = self.pool(x)\n",
        "\n",
        "    x = F.relu(self.tconv1(x))\n",
        "    x = F.relu(self.tconv2(x))\n",
        "    x = F.relu(self.tconv3(x))\n",
        "\n",
        "    x = self.conv_final(x)\n",
        "\n",
        "    return x\n",
        "\n",
        "model = model_3().to(device)"
      ],
      "execution_count": null,
      "outputs": []
    },
    {
      "cell_type": "code",
      "metadata": {
        "id": "Z3yIpMNMSUSO"
      },
      "source": [
        "# model using skip connections\n",
        "class model_skip(nn.Module):\n",
        "  def __init__(self):\n",
        "    super(model_skip, self).__init__()\n",
        "    \n",
        "    self.conv1 = nn.Conv2d(2, 8, 3, 1, 1)\n",
        "    self.pool = nn.MaxPool2d(2, 2)\n",
        "    self.conv2 = nn.Conv2d(8, 16, 3, 1, 1)\n",
        "    self.conv3 = nn.Conv2d(16, 32, 3, 1, 1)\n",
        "\n",
        "    self.tconv1 = nn.ConvTranspose2d(32, 32, 4, 2, 1)\n",
        "    self.tconv2 = nn.ConvTranspose2d(16, 16, 4, 2, 1)\n",
        "    self.tconv3 = nn.ConvTranspose2d(8, 8, 4, 2, 1)\n",
        "\n",
        "    self.conv_final = nn.Conv2d(8, 2, 1, 1, 0)\n",
        "\n",
        "    self.conv_bottom0 = nn.Conv2d(32,32,3,1,1)\n",
        "    self.conv_bottom1 = nn.Conv2d(64,16,3,1,1)\n",
        "    self.conv_bottom2 = nn.Conv2d(32,8,3,1,1)\n",
        "    self.conv_bottom3 = nn.Conv2d(16,8,3,1,1)\n",
        "\n",
        "  def forward(self, x):\n",
        "    x1 = F.relu(self.conv1(x))\n",
        "    x2 = self.pool(x1)\n",
        "    x3 = F.relu(self.conv2(x2))\n",
        "    x4 = self.pool(x3)\n",
        "    x5 = F.relu(self.conv3(x4))\n",
        "    x6 = self.pool(x5)\n",
        "\n",
        "    x7 = F.relu(self.conv_bottom0(x6))\n",
        "\n",
        "    x8 = torch.cat((self.tconv1(x7),x5),1)\n",
        "    x9 = F.relu(self.conv_bottom1(x8))\n",
        "    x10 = torch.cat((self.tconv2(x9),x3),1)\n",
        "    x11 = F.relu(self.conv_bottom2(x10))\n",
        "    x12 = torch.cat((self.tconv3(x11),x1),1)\n",
        "    x13 = F.relu(self.conv_bottom3(x12))\n",
        "\n",
        "    x14 = self.conv_final(x13)\n",
        "\n",
        "    return x14\n",
        "\n",
        "model = model_skip().to(device)"
      ],
      "execution_count": null,
      "outputs": []
    },
    {
      "cell_type": "code",
      "metadata": {
        "id": "5ohAhuhtW-mk"
      },
      "source": [
        "# code for a residual block\n",
        "class basic_block(nn.Module):\n",
        "  def __init__(self, in_channels, out_channels):\n",
        "    super(basic_block, self).__init__()\n",
        "\n",
        "    self.conv1 = nn.Conv2d(in_channels, out_channels, 3, 1, 1)\n",
        "    self.conv2 = nn.Conv2d(out_channels, out_channels, 3, 1, 1)\n",
        "    self.res_conv = nn.Conv2d(in_channels, out_channels, 1)\n",
        "\n",
        "  def forward(self, x):\n",
        "\n",
        "    res = x\n",
        "\n",
        "    x = F.relu(self.conv1(x))\n",
        "    x = self.conv2(x) + self.res_conv(res)\n",
        "    x = F.relu(x)\n",
        "      \n",
        "    return x\n",
        "\n",
        "# the complete network using residual blocks\n",
        "class residual_network(nn.Module):\n",
        "  def __init__(self):\n",
        "    super(residual_network, self).__init__()\n",
        "\n",
        "    self.resblock1 = basic_block(2, 8)\n",
        "    self.resblock2 = basic_block(8, 16)\n",
        "    self.resblock3 = basic_block(16, 32)\n",
        "\n",
        "    self.tconv1 = nn.ConvTranspose2d(32, 16, 4, 2, 1)\n",
        "    self.tconv2 = nn.ConvTranspose2d(16, 8, 4, 2, 1)\n",
        "    self.tconv3 = nn.ConvTranspose2d(8, 4, 4, 2, 1)\n",
        "\n",
        "    self.conv_final = nn.Conv2d(4, 2, 1)\n",
        "    self.pool = nn.MaxPool2d(2, 2)\n",
        "  \n",
        "  def forward(self, x):\n",
        "    x = self.resblock1(x)\n",
        "    x = self.pool(x)\n",
        "    x = self.resblock2(x)\n",
        "    x = self.pool(x)\n",
        "    x = self.resblock3(x)\n",
        "    x = self.pool(x)\n",
        "\n",
        "    x = F.relu(self.tconv1(x))\n",
        "    x = F.relu(self.tconv2(x))\n",
        "    x = F.relu(self.tconv3(x))\n",
        "\n",
        "    x = self.conv_final(x)\n",
        "\n",
        "    return x\n",
        "\n",
        "model = residual_network().to(device)"
      ],
      "execution_count": null,
      "outputs": []
    },
    {
      "cell_type": "code",
      "metadata": {
        "id": "f_XU6Lhvawg8"
      },
      "source": [
        "# define loss function and optimiser\n",
        "criterion = nn.CrossEntropyLoss()\n",
        "optimizer = optim.Adam(model.parameters(), lr = learning_rate)"
      ],
      "execution_count": null,
      "outputs": []
    },
    {
      "cell_type": "code",
      "metadata": {
        "id": "JpXt1O1WvxI8"
      },
      "source": [
        "# Used for the 2.2 exercise to add L2 regularization\n",
        "criterion = nn.CrossEntropyLoss()\n",
        "optimizer = optim.Adam(model.parameters(), lr = learning_rate, weight_decay=0.0001)"
      ],
      "execution_count": null,
      "outputs": []
    },
    {
      "cell_type": "code",
      "metadata": {
        "id": "pWMZJmJYW3vG"
      },
      "source": [
        "# function to evaluate accuracy on a given dataset in a loader\n",
        "def check_accuracy(loader, model):\n",
        "  model.eval()\n",
        "\n",
        "  num_correct = 0\n",
        "  num_samples = 0\n",
        "  num_pixels = 0\n",
        "  dice_score = 0\n",
        "\n",
        "  with torch.no_grad():\n",
        "    for x, y in loader:\n",
        "      # Put data on GPU if available\n",
        "      x = x.to(device)\n",
        "      y = y.to(device)\n",
        "\n",
        "      # Evaluate the predictions\n",
        "      scores = model(x)\n",
        "\n",
        "      preds = F.softmax(scores, dim=1)\n",
        "      preds = preds.argmax(dim=1)\n",
        "\n",
        "      # Count the numbers of correct classified pixels and total number of pixels\n",
        "      num_correct += (preds == y.squeeze()).sum()\n",
        "      num_pixels += torch.numel(preds)\n",
        "\n",
        "      # Computing the Dice Score\n",
        "      dice_score += (2* (preds*y.squeeze(1)).sum())/((preds + y.squeeze(1)).sum() + 1e-8)\n",
        "    model.train()\n",
        "  return dice_score/len(loader)"
      ],
      "execution_count": null,
      "outputs": []
    },
    {
      "cell_type": "code",
      "metadata": {
        "id": "hXZIObd_HYFw"
      },
      "source": [
        "losses = []\n",
        "SDC_test = []\n",
        "SDC_train = []"
      ],
      "execution_count": null,
      "outputs": []
    },
    {
      "cell_type": "code",
      "metadata": {
        "id": "NPB1A-QEuEiw"
      },
      "source": [
        "for epoch in range(num_epochs):\n",
        "  loss = []\n",
        "  for data, targets in train_loader:\n",
        "    data = data.to(device)\n",
        "    targets = targets.to(device)\n",
        "\n",
        "    scores = model(data)\n",
        "    J = criterion(scores, targets.squeeze(1).long())\n",
        "\n",
        "    optimizer.zero_grad()\n",
        "    J.backward()\n",
        "\n",
        "    optimizer.step()\n",
        "\n",
        "    loss.append(J.item())\n",
        "\n",
        "  losses.append(statistics.mean(loss))\n",
        "\n",
        "  SDC_train.append(check_accuracy(train_loader, model))\n",
        "  SDC_test.append(check_accuracy(test_loader, model))\n",
        "\n",
        "  print(epoch)"
      ],
      "execution_count": null,
      "outputs": []
    },
    {
      "cell_type": "markdown",
      "metadata": {
        "id": "-fvJSJtsDQJc"
      },
      "source": [
        "Section for creating plots"
      ]
    },
    {
      "cell_type": "code",
      "metadata": {
        "colab": {
          "base_uri": "https://localhost:8080/",
          "height": 279
        },
        "id": "zZIXxFapwsSH",
        "outputId": "e72028c9-a793-4d6f-9269-db5f6f7323e2"
      },
      "source": [
        "plt.plot(losses)\n",
        "plt.xlabel('Epochs')\n",
        "plt.ylabel('Loss')\n",
        "plt.savefig('ploz')"
      ],
      "execution_count": null,
      "outputs": [
        {
          "output_type": "display_data",
          "data": {
            "image/png": "[encoded data removed]",
            "text/plain": [
              "<Figure size 432x288 with 1 Axes>"
            ]
          },
          "metadata": {
            "tags": [],
            "needs_background": "light"
          }
        }
      ]
    },
    {
      "cell_type": "code",
      "metadata": {
        "colab": {
          "base_uri": "https://localhost:8080/",
          "height": 312
        },
        "id": "FM7v3u6xhS1L",
        "outputId": "abb17789-2a33-42ed-c675-ad307d929574"
      },
      "source": [
        "plt.plot(SDC_train, label='Train')\n",
        "plt.plot(SDC_test, label='Test')\n",
        "\n",
        "plt.xlabel('Epochs')\n",
        "plt.ylabel('SDC')\n",
        "plt.title('Dice coefficient over epochs')\n",
        "plt.legend()\n",
        "plt.savefig('SDC_REG')\n",
        "\n",
        "print(SDC_test[-1])"
      ],
      "execution_count": null,
      "outputs": [
        {
          "output_type": "stream",
          "text": [
            "tensor(0.8391, device='cuda:0')\n"
          ],
          "name": "stdout"
        },
        {
          "output_type": "display_data",
          "data": {
            "image/png": "[encoded data removed]",
            "text/plain": [
              "<Figure size 432x288 with 1 Axes>"
            ]
          },
          "metadata": {
            "tags": [],
            "needs_background": "light"
          }
        }
      ]
    },
    {
      "cell_type": "code",
      "metadata": {
        "id": "JYYI-b967lKy"
      },
      "source": [
        "x,y = next(iter(test_loader))\n",
        "\n",
        "x = x.to(device)\n",
        "y = y.to(device)\n",
        "\n",
        "pred = model(x)\n",
        "pred = F.softmax(pred, dim = 1)\n",
        "pred = pred.argmax(dim = 1)"
      ],
      "execution_count": null,
      "outputs": []
    },
    {
      "cell_type": "code",
      "metadata": {
        "colab": {
          "base_uri": "https://localhost:8080/",
          "height": 268
        },
        "id": "-ZflFchzdVwN",
        "outputId": "e0e93cc5-29e4-4a44-d4e4-7608fe473b11"
      },
      "source": [
        "index = 5\n",
        "im = pred.to('cpu')\n",
        "plt.imshow(im[index])\n",
        "plt.savefig('Test_bad_pred')"
      ],
      "execution_count": null,
      "outputs": [
        {
          "output_type": "display_data",
          "data": {
            "image/png": "[encoded data removed]",
            "text/plain": [
              "<Figure size 432x288 with 1 Axes>"
            ]
          },
          "metadata": {
            "tags": [],
            "needs_background": "light"
          }
        }
      ]
    },
    {
      "cell_type": "code",
      "metadata": {
        "colab": {
          "base_uri": "https://localhost:8080/",
          "height": 268
        },
        "id": "kddn26bIG1SE",
        "outputId": "7693cc87-660d-49ee-ba29-2a27dbf66cc3"
      },
      "source": [
        "tar = y.to('cpu')\n",
        "plt.imshow(tar[index][0])\n",
        "plt.savefig('Test_bad_target')"
      ],
      "execution_count": null,
      "outputs": [
        {
          "output_type": "display_data",
          "data": {
            "image/png": "[encoded data removed]",
            "text/plain": [
              "<Figure size 432x288 with 1 Axes>"
            ]
          },
          "metadata": {
            "tags": [],
            "needs_background": "light"
          }
        }
      ]
    }
  ]
}